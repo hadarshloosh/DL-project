{
  "nbformat": 4,
  "nbformat_minor": 0,
  "metadata": {
    "colab": {
      "provenance": [],
      "gpuType": "T4"
    },
    "kernelspec": {
      "name": "python3",
      "display_name": "Python 3"
    },
    "language_info": {
      "name": "python"
    },
    "accelerator": "GPU"
  },
  "cells": [
    {
      "cell_type": "code",
      "source": [
        "\n",
        "import numpy as np # linear algebra\n",
        "import pandas as pd # data processing, CSV file I/O (e.g. pd.read_csv)\n",
        "import torch\n",
        "import torch.nn as nn\n",
        "import torch.utils.data\n",
        "from torch.utils.data import TensorDataset, DataLoader, Dataset\n",
        "import torchvision\n",
        "import torchvision.models as models\n",
        "import torchvision.transforms as transforms\n",
        "import os\n",
        "from os import listdir\n",
        "from os.path import join\n",
        "from PIL import Image, ImageOps\n",
        "import random\n",
        "from torch.optim.lr_scheduler import ReduceLROnPlateau\n",
        "from PIL import Image\n",
        "import multiprocessing\n",
        "import matplotlib.pyplot as plt\n",
        "from datetime import datetime\n",
        "import torch\n",
        "import torch.utils.data as data"
      ],
      "metadata": {
        "id": "2WljmxYx50Tt"
      },
      "execution_count": 1,
      "outputs": []
    },
    {
      "cell_type": "code",
      "source": [
        "# connect to google drive in order to get access to the data, model\n",
        "from google.colab import drive\n",
        "drive.mount('/content/drive', force_remount=True)\n"
      ],
      "metadata": {
        "colab": {
          "base_uri": "https://localhost:8080/"
        },
        "id": "sgXI8ABJ67eS",
        "outputId": "8fe2906d-3c72-42d6-cf64-fb5fa9ef2c33"
      },
      "execution_count": 2,
      "outputs": [
        {
          "output_type": "stream",
          "name": "stdout",
          "text": [
            "Mounted at /content/drive\n"
          ]
        }
      ]
    },
    {
      "cell_type": "code",
      "source": [
        "class ImageDataset(Dataset):\n",
        "\n",
        "     def __init__(self, root_path, input_height=64, input_width=64, transform=None, debug=False, our_dataset=False):\n",
        "        self.image_list = []\n",
        "        self.our_dataset=our_dataset\n",
        "\n",
        "\n",
        "        if debug: # we want to debug the validation set with only 3 classes in A\n",
        "          classes_of_relevance = {'a','b','c'}\n",
        "          current_top_dir = root_path\n",
        "          sub_dirs = os.listdir(root_path)  # a, b, c, ..., o\n",
        "          for j in range(len(sub_dirs)):\n",
        "            current_sub_dir = join(current_top_dir, sub_dirs[j])\n",
        "            if sub_dirs[j] in classes_of_relevance:\n",
        "              # Add image paths to the image list if the class is of relevance\n",
        "              self.image_list.extend([join(current_sub_dir, f) for f in os.listdir(current_sub_dir) if f.startswith('color') and f.endswith('png')])\n",
        "          self.transform=transform\n",
        "          self.num_of_classes=3\n",
        "        elif(our_dataset):\n",
        "          top_dirs = os.listdir(root_path)\n",
        "          for i in range(len(top_dirs)):\n",
        "            current_top_dir = join(root_path, top_dirs[i])\n",
        "            # Add image paths to the image list\n",
        "            self.image_list.extend([join(current_top_dir, f) for f in os.listdir(current_top_dir) if f.endswith('jpeg')])\n",
        "          self.transform=transform\n",
        "          self.num_of_classes=24\n",
        "\n",
        "        else:\n",
        "          top_dirs = os.listdir(root_path)  # A, B , C\n",
        "          for i in range(len(top_dirs)):\n",
        "            current_top_dir = join(root_path, top_dirs[i])\n",
        "            sub_dirs = os.listdir(current_top_dir)  # a, b, c, ..., o\n",
        "            for j in range(len(sub_dirs)):\n",
        "              current_sub_dir = join(current_top_dir, sub_dirs[j])\n",
        "              # Add image paths to the image list\n",
        "              self.image_list.extend([join(current_sub_dir, f) for f in os.listdir(current_sub_dir) if f.startswith('color') and f.endswith('png')])\n",
        "          self.image_list = sorted(self.image_list)\n",
        "          self.transform=transform\n",
        "          self.num_of_classes=24\n",
        "\n",
        "\n",
        "\n",
        "     def __len__(self):\n",
        "      return len(self.image_list)\n",
        "\n",
        "     def __getitem__(self, index):\n",
        "      # Get the image path at the given index\n",
        "      img_path = self.image_list[index]\n",
        "      img = Image.open(img_path) # Open the image using PIL\n",
        "      if self.transform:\n",
        "        img = self.transform(img)\n",
        "      if (self.our_dataset):\n",
        "        return img\n",
        "      else:\n",
        "        label=self.extract_label(self.image_list[index])\n",
        "        return (img,label)\n",
        "\n",
        "     def extract_label(self, filename):\n",
        "          # Extract the label from the filename\n",
        "         label = int(os.path.basename(filename).split('_')[1])\n",
        "         if label > 8:\n",
        "          label -=1\n",
        "\n",
        "         return torch.tensor(int(label))\n"
      ],
      "metadata": {
        "id": "dFw3rFsk6QEj"
      },
      "execution_count": 3,
      "outputs": []
    },
    {
      "cell_type": "code",
      "source": [
        "# Define data transformations\n",
        "data_transform = transforms.Compose([\n",
        "    transforms.Resize((224, 224)),\n",
        "    transforms.ToTensor(),\n",
        "    transforms.Normalize(mean=[0.485, 0.456, 0.406],\n",
        "                         std=[0.229, 0.224, 0.225]) # according to the VGG19 that is trained on the data of imagenet\n",
        "])\n"
      ],
      "metadata": {
        "id": "wK49shYk6kPp"
      },
      "execution_count": 4,
      "outputs": []
    },
    {
      "cell_type": "code",
      "source": [
        "DEBUG = False"
      ],
      "metadata": {
        "id": "gvVZlgCO6nEp"
      },
      "execution_count": 5,
      "outputs": []
    },
    {
      "cell_type": "code",
      "source": [
        "dataset = ImageDataset('/content/drive/MyDrive/dataset_dp_project_new/dataset5', transform=data_transform, debug=DEBUG)\n",
        "print(len(dataset))"
      ],
      "metadata": {
        "colab": {
          "base_uri": "https://localhost:8080/"
        },
        "id": "KFQTDgw56poZ",
        "outputId": "5878fa26-4882-4254-f003-eb9ec4fd07ff"
      },
      "execution_count": 6,
      "outputs": [
        {
          "output_type": "stream",
          "name": "stdout",
          "text": [
            "61543\n"
          ]
        }
      ]
    },
    {
      "cell_type": "code",
      "source": [
        "from torch.utils.data import random_split\n",
        "\n",
        "# Split the dataset into training and testing sets\n",
        "train_size = int(0.8 * len(dataset))  # 80% for training\n",
        "test_size = len(dataset) - train_size  # Remaining 20% for testing\n",
        "\n",
        "train_dataset, test_dataset = random_split(dataset, [train_size, test_size], generator=torch.Generator().manual_seed(5))\n",
        "\n",
        "# Further split theg training dataset into training and validation sets\n",
        "val_size = int(0.25 * len(train_dataset))  # 25% of the training set for validation\n",
        "train_size = len(train_dataset) - val_size  # Remaining 60% for training\n",
        "\n",
        "train_dataset, val_dataset = random_split(train_dataset, [train_size, val_size], generator=torch.Generator().manual_seed(6))"
      ],
      "metadata": {
        "id": "D5_HWfJL7GUA"
      },
      "execution_count": 7,
      "outputs": []
    },
    {
      "cell_type": "code",
      "source": [
        "# img_height = 224\n",
        "# img_width = 224\n",
        "#img_channels = 3\n",
        "if DEBUG:\n",
        "  num_classes=3\n",
        "else:\n",
        "  num_classes=24\n",
        "# weights = '/content/vgg19.pth' # the weights that we use for the vgg19 pretrained model\n",
        "\n",
        "def build_model():\n",
        "    model = models.vgg19(pretrained=True)\n",
        "    for param in model.parameters():\n",
        "        param.requires_grad = False # we are freezing the weights of this model in order to create feature extractor\n",
        "\n",
        "    num_features = model.classifier[6].in_features # we only replace the last layer of the vgg19 and adding instead our layers to train the model\n",
        "    model.classifier[6] = nn.Sequential(\n",
        "        nn.Linear(num_features, 512),\n",
        "        nn.ReLU(inplace=True),\n",
        "        nn.Dropout(0.4),\n",
        "        nn.BatchNorm1d(512),\n",
        "        nn.Linear(512, 512),\n",
        "        nn.ReLU(inplace=True),\n",
        "        nn.Dropout(0.3),\n",
        "        nn.BatchNorm1d(512),\n",
        "        nn.Linear(512, num_classes),\n",
        "    )\n",
        "\n",
        "    return model\n"
      ],
      "metadata": {
        "id": "ccDxEggY7R93"
      },
      "execution_count": 8,
      "outputs": []
    },
    {
      "cell_type": "code",
      "source": [
        "device = torch.device('cuda' if torch.cuda.is_available() else 'cpu')  #in order to set our device when working on cpu or gpu\n",
        "model = build_model()\n",
        "model.load_state_dict(torch.load(\"/content/drive/MyDrive/checkpoints/model_batch128_5\")[\"net\"])\n",
        "model = model.to(device) # send the model to the device\n",
        "from torchsummary import summary\n",
        "summary(model, input_size=(3, 224, 224))\n",
        "\n"
      ],
      "metadata": {
        "colab": {
          "base_uri": "https://localhost:8080/"
        },
        "id": "sMqLKbpU7VHS",
        "outputId": "5feeb7b2-1662-4e67-81d9-fc514c978e92"
      },
      "execution_count": 9,
      "outputs": [
        {
          "output_type": "stream",
          "name": "stderr",
          "text": [
            "/usr/local/lib/python3.10/dist-packages/torchvision/models/_utils.py:208: UserWarning: The parameter 'pretrained' is deprecated since 0.13 and may be removed in the future, please use 'weights' instead.\n",
            "  warnings.warn(\n",
            "/usr/local/lib/python3.10/dist-packages/torchvision/models/_utils.py:223: UserWarning: Arguments other than a weight enum or `None` for 'weights' are deprecated since 0.13 and may be removed in the future. The current behavior is equivalent to passing `weights=VGG19_Weights.IMAGENET1K_V1`. You can also use `weights=VGG19_Weights.DEFAULT` to get the most up-to-date weights.\n",
            "  warnings.warn(msg)\n",
            "Downloading: \"https://download.pytorch.org/models/vgg19-dcbb9e9d.pth\" to /root/.cache/torch/hub/checkpoints/vgg19-dcbb9e9d.pth\n",
            "100%|██████████| 548M/548M [00:02<00:00, 284MB/s]\n"
          ]
        },
        {
          "output_type": "stream",
          "name": "stdout",
          "text": [
            "----------------------------------------------------------------\n",
            "        Layer (type)               Output Shape         Param #\n",
            "================================================================\n",
            "            Conv2d-1         [-1, 64, 224, 224]           1,792\n",
            "              ReLU-2         [-1, 64, 224, 224]               0\n",
            "            Conv2d-3         [-1, 64, 224, 224]          36,928\n",
            "              ReLU-4         [-1, 64, 224, 224]               0\n",
            "         MaxPool2d-5         [-1, 64, 112, 112]               0\n",
            "            Conv2d-6        [-1, 128, 112, 112]          73,856\n",
            "              ReLU-7        [-1, 128, 112, 112]               0\n",
            "            Conv2d-8        [-1, 128, 112, 112]         147,584\n",
            "              ReLU-9        [-1, 128, 112, 112]               0\n",
            "        MaxPool2d-10          [-1, 128, 56, 56]               0\n",
            "           Conv2d-11          [-1, 256, 56, 56]         295,168\n",
            "             ReLU-12          [-1, 256, 56, 56]               0\n",
            "           Conv2d-13          [-1, 256, 56, 56]         590,080\n",
            "             ReLU-14          [-1, 256, 56, 56]               0\n",
            "           Conv2d-15          [-1, 256, 56, 56]         590,080\n",
            "             ReLU-16          [-1, 256, 56, 56]               0\n",
            "           Conv2d-17          [-1, 256, 56, 56]         590,080\n",
            "             ReLU-18          [-1, 256, 56, 56]               0\n",
            "        MaxPool2d-19          [-1, 256, 28, 28]               0\n",
            "           Conv2d-20          [-1, 512, 28, 28]       1,180,160\n",
            "             ReLU-21          [-1, 512, 28, 28]               0\n",
            "           Conv2d-22          [-1, 512, 28, 28]       2,359,808\n",
            "             ReLU-23          [-1, 512, 28, 28]               0\n",
            "           Conv2d-24          [-1, 512, 28, 28]       2,359,808\n",
            "             ReLU-25          [-1, 512, 28, 28]               0\n",
            "           Conv2d-26          [-1, 512, 28, 28]       2,359,808\n",
            "             ReLU-27          [-1, 512, 28, 28]               0\n",
            "        MaxPool2d-28          [-1, 512, 14, 14]               0\n",
            "           Conv2d-29          [-1, 512, 14, 14]       2,359,808\n",
            "             ReLU-30          [-1, 512, 14, 14]               0\n",
            "           Conv2d-31          [-1, 512, 14, 14]       2,359,808\n",
            "             ReLU-32          [-1, 512, 14, 14]               0\n",
            "           Conv2d-33          [-1, 512, 14, 14]       2,359,808\n",
            "             ReLU-34          [-1, 512, 14, 14]               0\n",
            "           Conv2d-35          [-1, 512, 14, 14]       2,359,808\n",
            "             ReLU-36          [-1, 512, 14, 14]               0\n",
            "        MaxPool2d-37            [-1, 512, 7, 7]               0\n",
            "AdaptiveAvgPool2d-38            [-1, 512, 7, 7]               0\n",
            "           Linear-39                 [-1, 4096]     102,764,544\n",
            "             ReLU-40                 [-1, 4096]               0\n",
            "          Dropout-41                 [-1, 4096]               0\n",
            "           Linear-42                 [-1, 4096]      16,781,312\n",
            "             ReLU-43                 [-1, 4096]               0\n",
            "          Dropout-44                 [-1, 4096]               0\n",
            "           Linear-45                  [-1, 512]       2,097,664\n",
            "             ReLU-46                  [-1, 512]               0\n",
            "          Dropout-47                  [-1, 512]               0\n",
            "      BatchNorm1d-48                  [-1, 512]           1,024\n",
            "           Linear-49                  [-1, 512]         262,656\n",
            "             ReLU-50                  [-1, 512]               0\n",
            "          Dropout-51                  [-1, 512]               0\n",
            "      BatchNorm1d-52                  [-1, 512]           1,024\n",
            "           Linear-53                   [-1, 24]          12,312\n",
            "================================================================\n",
            "Total params: 141,944,920\n",
            "Trainable params: 2,374,680\n",
            "Non-trainable params: 139,570,240\n",
            "----------------------------------------------------------------\n",
            "Input size (MB): 0.57\n",
            "Forward/backward pass size (MB): 238.71\n",
            "Params size (MB): 541.48\n",
            "Estimated Total Size (MB): 780.76\n",
            "----------------------------------------------------------------\n"
          ]
        }
      ]
    },
    {
      "cell_type": "code",
      "source": [
        "# function to calcualte accuracy of the model\n",
        "def calculate_accuracy(model, dataloader, device, num_classes=24):\n",
        "    model.eval() # put in evaluation mode, turn of DropOut, BatchNorm uses learned statistics\n",
        "    total_correct = 0\n",
        "    total_images = 0\n",
        "    with torch.no_grad():\n",
        "        for data in dataloader:\n",
        "            images, labels = data\n",
        "            images = images.to(device)\n",
        "            labels = labels.to(device)\n",
        "            outputs = model(images)\n",
        "            _, predicted = torch.max(outputs.data, 1)  # here we get the max score of the suitable label that fit to our images\n",
        "            total_images += labels.size(0)\n",
        "            total_correct += (predicted == labels).sum().item() # testing if the prediction suits the label of the image and if it is count it and add it to the total correct\n",
        "\n",
        "    model_accuracy = total_correct / total_images * 100\n",
        "    return model_accuracy\n"
      ],
      "metadata": {
        "id": "vKfuTovN7log"
      },
      "execution_count": 11,
      "outputs": []
    },
    {
      "cell_type": "code",
      "execution_count": null,
      "metadata": {
        "id": "LHHR7bR55QPo"
      },
      "outputs": [],
      "source": [
        "import torch.optim as optim\n",
        "from torch.optim.lr_scheduler import MultiStepLR\n",
        "import time\n",
        "# Setting the hyper parameters of the model\n",
        "# Set the number of epochs\n",
        "start_epoch = 6\n",
        "end_epochs = 10\n",
        "batch_size = 16  #we tried many diffrent batch_sizes and took the best of them\n",
        "learning_rate = 1e-3\n",
        "# Define the loss function and optimizer\n",
        "criterion = nn.CrossEntropyLoss() # for the mission of classification\n",
        "optimizer = optim.Adam(model.parameters(),lr=learning_rate)\n",
        "scheduler = MultiStepLR(optimizer, milestones=[2, 4], gamma=0.1)\n",
        "counter = 0\n",
        "\n",
        "# now we use the class that we defined in order to upload the dataset batch by batch\n",
        "train_dataloader = DataLoader(train_dataset, batch_size=batch_size, shuffle=True)\n",
        "test_dataloader = DataLoader(test_dataset, batch_size=batch_size, shuffle=False)\n",
        "val_dataloader = DataLoader(val_dataset, batch_size=batch_size, shuffle=False)\n",
        "\n",
        "# Training loop\n",
        "epoch_losses_mean = {}\n",
        "epoch_length = np.arange(1, 10, 1)\n",
        "\n",
        "train_acc_values = []\n",
        "val_acc_values = []\n",
        "for epoch in range(start_epoch, end_epochs + 1):\n",
        "    model.train() # put in training mode, turn on DropOut, BatchNorm uses batch's statistics\n",
        "    running_loss = 0.0\n",
        "    epoch_time = time.time()\n",
        "\n",
        "    for i, (inputs, labels) in enumerate(train_dataloader):\n",
        "      # send them to device\n",
        "      inputs = inputs.to(device)\n",
        "      labels = labels.to(device)\n",
        "\n",
        "      # forward + backward + optimize\n",
        "      outputs = model(inputs) # forward pass\n",
        "      loss = criterion(outputs, labels) # calculate the loss\n",
        "      # always the same 3 steps\n",
        "      optimizer.zero_grad() # zero the parameter gradients\n",
        "      loss.backward() # backpropagation\n",
        "      optimizer.step() # update parameters\n",
        "      running_loss += loss.data.item()\n",
        "    scheduler.step()\n",
        "    # Normalizing the loss by the total number of train batches\n",
        "    epoch_losses_mean[epoch] = running_loss/len(train_dataloader)\n",
        "    running_loss /= len(train_dataloader)\n",
        "    # Calculate training/test set accuracy of the existing model\n",
        "    train_accuracy = calculate_accuracy(model, train_dataloader, device , num_classes)\n",
        "    val_accuracy = calculate_accuracy(model, val_dataloader, device)\n",
        "    # Append accuracy values to the lists\n",
        "    train_acc_values.append(train_accuracy)\n",
        "    val_acc_values.append(val_accuracy)\n",
        "    log = \"Epoch: {} | Loss: {:.4f} | Training accuracy: {:.3f}% | Test accuracy: {:.3f}% | \".format(epoch, running_loss, train_accuracy, val_accuracy)\n",
        "    epoch_time = time.time() - epoch_time\n",
        "    log += \"Epoch Time: {:.2f} secs\".format(epoch_time)\n",
        "\n",
        "    print(log)\n",
        "\n",
        " # save model\n",
        "    if epoch % 1 == 0:\n",
        "        print('==> Saving model ...')\n",
        "        state = {\n",
        "            'net': model.state_dict(),\n",
        "            'epoch': epoch,\n",
        "         }\n",
        "        if not os.path.isdir('./checkpoints'):\n",
        "            os.mkdir('./checkpoints')\n",
        "        torch.save(state, f'./checkpoints/model_batch16_{epoch}')\n",
        "print('==> Finished Training ...')\n",
        "\n",
        "\n",
        "\n"
      ]
    },
    {
      "cell_type": "code",
      "source": [
        "# # the results of the loss function on the train set and the accuracy on the train and val set\n",
        "df = pd.read_csv(\"/content/drive/MyDrive/run_data_model_batch128.csv\")\n",
        "epoch_losses_mean = df[\"epoch_losses_mean\"].tolist()\n",
        "train_acc_values = df[\"train_acc_values\"].tolist()\n",
        "val_acc_values = df[\"val_acc_values\"].tolist()\n",
        "epoch_length = np.arange(1,len(epoch_losses_mean),1)"
      ],
      "metadata": {
        "id": "xDjYvvMe--Y5"
      },
      "execution_count": 2,
      "outputs": []
    },
    {
      "cell_type": "code",
      "source": [
        "# plot the train loss\n",
        "fig, ax = plt.subplots(figsize=(5, 5))\n",
        "ax.plot(epoch_length, [epoch_losses_mean[i] for i in epoch_length])\n",
        "ax.set_title('Loss Train')\n",
        "ax.set_xlabel('Epochs')\n",
        "ax.set_ylabel('Loss')\n",
        "plt.tight_layout()\n"
      ],
      "metadata": {
        "colab": {
          "base_uri": "https://localhost:8080/",
          "height": 507
        },
        "id": "P-hsF4vh-7wN",
        "outputId": "6a003283-bac1-4c3d-f8b1-cbf6dc73413b"
      },
      "execution_count": 13,
      "outputs": [
        {
          "output_type": "display_data",
          "data": {
            "text/plain": [
              "<Figure size 500x500 with 1 Axes>"
            ],
            "image/png": "[encoded data removed]"
          },
          "metadata": {}
        }
      ]
    },
    {
      "cell_type": "code",
      "source": [
        "\n",
        "# Plot the training and validation accuracy\n",
        "plt.plot(train_acc_values, label='train acc')\n",
        "plt.plot(val_acc_values, label='val acc')\n",
        "plt.xlabel('Batch')\n",
        "plt.ylabel('Accuracy')\n",
        "plt.legend()\n",
        "plt.show()"
      ],
      "metadata": {
        "colab": {
          "base_uri": "https://localhost:8080/",
          "height": 449
        },
        "id": "caG0-PvZ-8yI",
        "outputId": "bfecd886-b571-402e-a1cd-17f0fe437b62"
      },
      "execution_count": 14,
      "outputs": [
        {
          "output_type": "display_data",
          "data": {
            "text/plain": [
              "<Figure size 640x480 with 1 Axes>"
            ],
            "image/png": "[encoded data removed]"
          },
          "metadata": {}
        }
      ]
    },
    {
      "cell_type": "markdown",
      "source": [
        "We tried to keep training our model after 5 epochs from the point that we stopped but we didn't reach a better accuracy on the test set\n"
      ],
      "metadata": {
        "id": "KmQiER1ODJVc"
      }
    }
  ]
}